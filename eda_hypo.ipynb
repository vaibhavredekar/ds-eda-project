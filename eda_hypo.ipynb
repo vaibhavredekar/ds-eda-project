{
 "cells": [
  {
   "cell_type": "code",
   "execution_count": null,
   "id": "d7f7aa45",
   "metadata": {},
   "outputs": [],
   "source": [
    "import pandas as pd\n",
    "import numpy as np\n",
    "from time import sleep\n",
    "import missingno as msno\n",
    "import matplotlib.pyplot as plt\n",
    "import plotly.express as px\n",
    "import geopandas as gpd\n",
    "import fsspec\n",
    "from shapely.geometry import Point\n",
    "import seaborn as sns\n",
    "pd.__version__"
   ]
  },
  {
   "cell_type": "code",
   "execution_count": null,
   "id": "bc4f4d0f",
   "metadata": {},
   "outputs": [],
   "source": [
    "# # Imports\n",
    "\n",
    "# from eda_data_cleaning import DataCleaning\n",
    "# from eda_hypothesis import Hypothesis3 , Hypothesis\n",
    "\n",
    "# df = Hypothesis().df.copy()\n",
    "# df.head()\n",
    "\n",
    "\n",
    "# obj3 = Hypothesis3()\n"
   ]
  },
  {
   "cell_type": "code",
   "execution_count": null,
   "id": "2581fcc8",
   "metadata": {},
   "outputs": [],
   "source": [
    "# df.eval('price_per_sqft = price / sqft_living', inplace=True)\n",
    "# df.head()\n",
    "# # cols = df.columns\n",
    "# df.sort_values(by='date')\n",
    "# df.hist(figsize=(20,20), bins=5)"
   ]
  },
  {
   "cell_type": "code",
   "execution_count": null,
   "id": "18ecab26",
   "metadata": {},
   "outputs": [],
   "source": [
    "# cols = np.array(df.columns)\n",
    "# cols"
   ]
  },
  {
   "cell_type": "code",
   "execution_count": null,
   "id": "418eba50",
   "metadata": {},
   "outputs": [],
   "source": [
    "# df.plot(kind='scatter',x='date', y='price')\n",
    "# df.plot(kind='scatter',x='price_per_sqft', y='zipcode')\n",
    "\n"
   ]
  },
  {
   "cell_type": "code",
   "execution_count": null,
   "id": "326d3ddc",
   "metadata": {},
   "outputs": [],
   "source": [
    "# mode = df.price_per_sqft.mode()\n",
    "# max =df.price_per_sqft.max()\n",
    "# min = df.price_per_sqft.min()\n",
    "# mean = df.price_per_sqft.mean()\n",
    "\n",
    "# print(min,max,mean)"
   ]
  },
  {
   "cell_type": "code",
   "execution_count": null,
   "id": "66da7505",
   "metadata": {},
   "outputs": [],
   "source": [
    "# # For apartment to be expensive they should be above the mean prices\n",
    "# mode_price = df.price.mode()\n",
    "# max_price =df.price.max()\n",
    "# min_price = df.price.min()\n",
    "# mean_price = df.price.mean()\n",
    "\n",
    "\n",
    "\n",
    "# new = df[(df['price_per_sqft'] > mean) & (df['price'] > mean_price) & (df['sqft_living'] > 2500.55) & (df['waterfront'] == 0)] \n",
    "# new.hist(figsize=(20,20), bins=5)\n",
    "\n"
   ]
  },
  {
   "cell_type": "code",
   "execution_count": null,
   "id": "6046350a",
   "metadata": {},
   "outputs": [],
   "source": [
    "# fig = px.histogram(new, x='price_per_sqft', y='price')\n",
    "# fig.show()"
   ]
  },
  {
   "cell_type": "markdown",
   "id": "243698fe",
   "metadata": {},
   "source": [
    "# Hypothesis - 3\n",
    "\n",
    "Proofs:<br>\n",
    "Location-Price Correlation: Show distance_from_center has stronger correlation with price than grade or condition\n",
    "\n",
    "Central vs Peripheral Premium: Prove central areas command higher prices regardless of quality\n",
    "\n",
    "Quality Independence: Show that in central areas, even low-grade properties are expensive, and in peripheral areas, even high-grade properties are relatively cheap\n",
    "\n",
    "Visual Evidence: The geographic map should show clear price clustering by location, not scattered randomly by quality"
   ]
  },
  {
   "cell_type": "code",
   "execution_count": null,
   "id": "98f06f56",
   "metadata": {},
   "outputs": [],
   "source": [
    "from eda_hypothesis import Hypothesis3\n",
    "\n",
    "obj = Hypothesis3()\n",
    "df = obj.prep_df()\n"
   ]
  },
  {
   "cell_type": "code",
   "execution_count": null,
   "id": "721f72d9",
   "metadata": {},
   "outputs": [],
   "source": [
    "obj.vis_price_distr_cent(df)"
   ]
  },
  {
   "cell_type": "code",
   "execution_count": null,
   "id": "538fbe74",
   "metadata": {},
   "outputs": [],
   "source": [
    "obj.vis_loc_vs_qlty_scatter(df)\n"
   ]
  },
  {
   "cell_type": "code",
   "execution_count": null,
   "id": "6ebff936",
   "metadata": {},
   "outputs": [],
   "source": [
    "obj.vis_prc_by_grade_condition(df)"
   ]
  }
 ],
 "metadata": {
  "kernelspec": {
   "display_name": ".venv",
   "language": "python",
   "name": "python3"
  },
  "language_info": {
   "codemirror_mode": {
    "name": "ipython",
    "version": 3
   },
   "file_extension": ".py",
   "mimetype": "text/x-python",
   "name": "python",
   "nbconvert_exporter": "python",
   "pygments_lexer": "ipython3",
   "version": "3.11.3"
  }
 },
 "nbformat": 4,
 "nbformat_minor": 5
}
