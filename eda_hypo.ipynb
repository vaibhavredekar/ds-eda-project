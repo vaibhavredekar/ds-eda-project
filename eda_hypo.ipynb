{
 "cells": [
  {
   "cell_type": "code",
   "execution_count": 1,
   "id": "d7f7aa45",
   "metadata": {},
   "outputs": [
    {
     "data": {
      "text/plain": [
       "'2.3.3'"
      ]
     },
     "execution_count": 1,
     "metadata": {},
     "output_type": "execute_result"
    }
   ],
   "source": [
    "import pandas as pd\n",
    "import numpy as np\n",
    "from time import sleep\n",
    "import missingno as msno\n",
    "import matplotlib.pyplot as plt\n",
    "import plotly.express as px\n",
    "import geopandas as gpd\n",
    "import fsspec\n",
    "from shapely.geometry import Point\n",
    "import seaborn as sns\n",
    "pd.__version__"
   ]
  },
  {
   "cell_type": "code",
   "execution_count": null,
   "id": "bc4f4d0f",
   "metadata": {},
   "outputs": [],
   "source": [
    "# # Imports\n",
    "\n",
    "# from eda_data_cleaning import DataCleaning\n",
    "# from eda_hypothesis import Hypothesis3 , Hypothesis\n",
    "\n",
    "# df = Hypothesis().df.copy()\n",
    "# df.head()\n",
    "\n",
    "\n",
    "# obj3 = Hypothesis3()\n"
   ]
  },
  {
   "cell_type": "code",
   "execution_count": null,
   "id": "2581fcc8",
   "metadata": {},
   "outputs": [],
   "source": [
    "# df.eval('price_per_sqft = price / sqft_living', inplace=True)\n",
    "# df.head()\n",
    "# # cols = df.columns\n",
    "# df.sort_values(by='date')\n",
    "# df.hist(figsize=(20,20), bins=5)"
   ]
  },
  {
   "cell_type": "code",
   "execution_count": null,
   "id": "18ecab26",
   "metadata": {},
   "outputs": [],
   "source": [
    "# cols = np.array(df.columns)\n",
    "# cols"
   ]
  },
  {
   "cell_type": "code",
   "execution_count": null,
   "id": "418eba50",
   "metadata": {},
   "outputs": [],
   "source": [
    "# df.plot(kind='scatter',x='date', y='price')\n",
    "# df.plot(kind='scatter',x='price_per_sqft', y='zipcode')\n",
    "\n"
   ]
  },
  {
   "cell_type": "code",
   "execution_count": null,
   "id": "326d3ddc",
   "metadata": {},
   "outputs": [],
   "source": [
    "# mode = df.price_per_sqft.mode()\n",
    "# max =df.price_per_sqft.max()\n",
    "# min = df.price_per_sqft.min()\n",
    "# mean = df.price_per_sqft.mean()\n",
    "\n",
    "# print(min,max,mean)"
   ]
  },
  {
   "cell_type": "code",
   "execution_count": null,
   "id": "66da7505",
   "metadata": {},
   "outputs": [],
   "source": [
    "# # For apartment to be expensive they should be above the mean prices\n",
    "# mode_price = df.price.mode()\n",
    "# max_price =df.price.max()\n",
    "# min_price = df.price.min()\n",
    "# mean_price = df.price.mean()\n",
    "\n",
    "\n",
    "\n",
    "# new = df[(df['price_per_sqft'] > mean) & (df['price'] > mean_price) & (df['sqft_living'] > 2500.55) & (df['waterfront'] == 0)] \n",
    "# new.hist(figsize=(20,20), bins=5)\n",
    "\n"
   ]
  },
  {
   "cell_type": "code",
   "execution_count": null,
   "id": "6046350a",
   "metadata": {},
   "outputs": [],
   "source": [
    "# fig = px.histogram(new, x='price_per_sqft', y='price')\n",
    "# fig.show()"
   ]
  },
  {
   "cell_type": "markdown",
   "id": "243698fe",
   "metadata": {},
   "source": [
    "# Hypothesis - 3\n",
    "\n",
    "Proofs:<br>\n",
    "Location-Price Correlation: Show distance_from_center has stronger correlation with price than grade or condition\n",
    "\n",
    "Central vs Peripheral Premium: Prove central areas command higher prices regardless of quality\n",
    "\n",
    "Quality Independence: Show that in central areas, even low-grade properties are expensive, and in peripheral areas, even high-grade properties are relatively cheap\n",
    "\n",
    "Visual Evidence: The geographic map should show clear price clustering by location, not scattered randomly by quality"
   ]
  },
  {
   "cell_type": "code",
   "execution_count": null,
   "id": "98f06f56",
   "metadata": {},
   "outputs": [],
   "source": [
    "from eda_hypothesis import Hypothesis3\n",
    "\n",
    "obj = Hypothesis3()\n",
    "df = obj.prep_df()\n"
   ]
  },
  {
   "cell_type": "code",
   "execution_count": null,
   "id": "721f72d9",
   "metadata": {},
   "outputs": [],
   "source": [
    "obj.vis_price_distr_cent(df)"
   ]
  },
  {
   "cell_type": "code",
   "execution_count": null,
   "id": "538fbe74",
   "metadata": {},
   "outputs": [],
   "source": [
    "obj.vis_loc_vs_qlty_scatter(df)\n"
   ]
  },
  {
   "cell_type": "code",
   "execution_count": null,
   "id": "6ebff936",
   "metadata": {},
   "outputs": [],
   "source": [
    "obj.vis_prc_by_grade_condition(df)"
   ]
  },
  {
   "cell_type": "code",
   "execution_count": null,
   "id": "14e61259",
   "metadata": {},
   "outputs": [],
   "source": [
    "# Geographic Evidence\n",
    "# Zip code analysis\n",
    "zipcode_stats = df.groupby('zipcode').agg({\n",
    "    'price_per_sqft': 'mean',\n",
    "    'lat': 'mean', \n",
    "    'long': 'mean',\n",
    "    'grade': 'mean',\n",
    "    'condition': 'mean'\n",
    "}).sort_values('price_per_sqft', ascending=False)\n",
    "\n",
    "# Premium Quantification\n",
    "# Calculate exact premium\n",
    "central_avg = df[df['is_central']]['price_per_sqft'].mean()\n",
    "peripheral_avg = df[~df['is_central']]['price_per_sqft'].mean()\n",
    "premium_pct = ((central_avg - peripheral_avg) / peripheral_avg) * 100\n",
    "\n",
    "print(f\"Central area premium: {premium_pct:.1f}%\")\n"
   ]
  },
  {
   "cell_type": "code",
   "execution_count": null,
   "id": "d5ac286f",
   "metadata": {},
   "outputs": [],
   "source": [
    "import folium\n",
    "\n",
    "m = folium.Map(location=[df['lat'].mean(), df['long'].mean()], zoom_start=11)\n",
    "for idx, row in df.sample(1000).iterrows():  # Sample for clarity\n",
    "    color = 'red' if row['price_per_sqft'] > df['price_per_sqft'].quantile(0.75) else 'blue'\n",
    "    folium.CircleMarker(\n",
    "        location=[row['lat'], row['long']],\n",
    "        radius=3,\n",
    "        popup=f\"${row['price_per_sqft']:.0f}/sqft<br>Grade: {row['grade']}\",\n",
    "        color=color,\n",
    "        fill=True\n",
    "    ).add_to(m)\n",
    "\n",
    "# m.show_in_browser()"
   ]
  },
  {
   "cell_type": "code",
   "execution_count": null,
   "id": "ab90108b",
   "metadata": {},
   "outputs": [],
   "source": [
    "corr_matrix = df[['price_per_sqft', 'distance_from_center', 'grade', 'condition', 'sqft_living']].corr()\n",
    "plt.figure(figsize=(8, 6))\n",
    "sns.heatmap(corr_matrix, annot=True, cmap='coolwarm', center=0)\n",
    "plt.title('Correlation: Location vs Other Factors')\n",
    "\n",
    "\n",
    "# # Compute correlation matrix\n",
    "# corr_matrix = df[['price_per_sqft', 'distance_from_center', 'grade', 'condition', 'sqft_living']].corr()\n",
    "# # Create a mask for the upper triangle\n",
    "# mask = np.triu(np.ones_like(corr_matrix, dtype=bool))\n",
    "# # Set up the matplotlib figure\n",
    "# plt.figure(figsize=(8, 6))\n",
    "# # Draw the heatmap with the mask\n",
    "# sns.heatmap(corr_matrix, mask=mask, annot=True, cmap='coolwarm', center=0)\n",
    "# plt.title('Correlation: Location vs Other Factors')\n",
    "# plt.tight_layout()\n",
    "# plt.show()"
   ]
  },
  {
   "cell_type": "code",
   "execution_count": null,
   "id": "5adf364b",
   "metadata": {},
   "outputs": [],
   "source": [
    "central_low_quality = df[(df['is_central']) & (df['grade'] <= 7)]\n",
    "peripheral_high_quality = df[(~df['is_central']) & (df['grade'] >= 10)]\n",
    "\n",
    "# Expected: central_low_quality.mean_price > peripheral_high_quality.mean_price\n",
    "\n",
    "# Visualization: Side-by-side box plots\n",
    "fig, ax = plt.subplots(1, 2, figsize=(15, 6))\n",
    "sns.boxplot(data=central_low_quality, x='grade', y='price_per_sqft', ax=ax[0])\n",
    "sns.boxplot(data=peripheral_high_quality, x='grade', y='price_per_sqft', ax=ax[1])\n",
    "\n",
    "# Find specific examples that prove the point\n",
    "examples = pd.DataFrame({\n",
    "    'Type': ['Central_LowGrade', 'Peripheral_HighGrade'],\n",
    "    'Avg_Price_SqFt': [\n",
    "        central_low_quality['price_per_sqft'].mean(),\n",
    "        peripheral_high_quality['price_per_sqft'].mean()\n",
    "    ],\n",
    "    'Avg_Grade': [\n",
    "        central_low_quality['grade'].mean(),\n",
    "        peripheral_high_quality['grade'].mean()\n",
    "    ]\n",
    "})\n",
    "\n",
    "print(\"Compelling Evidence:\")\n",
    "print(examples)"
   ]
  },
  {
   "cell_type": "markdown",
   "id": "19f8d547",
   "metadata": {},
   "source": [
    "# Hypothesis 2"
   ]
  },
  {
   "cell_type": "code",
   "execution_count": null,
   "id": "70e2ca85",
   "metadata": {},
   "outputs": [],
   "source": [
    "from eda_hypothesis import Hypothesis2, Hypothesis3\n",
    "\n",
    "obj2 = Hypothesis2()\n",
    "df = obj2.prep_df()\n"
   ]
  },
  {
   "cell_type": "code",
   "execution_count": null,
   "id": "86b94035",
   "metadata": {},
   "outputs": [],
   "source": [
    "obj2.vis_qlty_roi(df)\n"
   ]
  },
  {
   "cell_type": "code",
   "execution_count": null,
   "id": "4d72f6a9",
   "metadata": {},
   "outputs": [],
   "source": [
    "obj2.vis_dimnish_returns(df)\n"
   ]
  },
  {
   "cell_type": "code",
   "execution_count": null,
   "id": "eef674a9",
   "metadata": {},
   "outputs": [],
   "source": [
    "obj2.vis_interaction_effects(df)"
   ]
  },
  {
   "cell_type": "code",
   "execution_count": null,
   "id": "811ade34",
   "metadata": {},
   "outputs": [],
   "source": [
    "obj2.vis_main_plot(df)\n"
   ]
  },
  {
   "cell_type": "markdown",
   "id": "5b3132ae",
   "metadata": {},
   "source": [
    "# Hypothesis 1"
   ]
  },
  {
   "cell_type": "code",
   "execution_count": null,
   "id": "99b04291",
   "metadata": {},
   "outputs": [],
   "source": [
    "from eda_hypothesis import Hypothesis, FinalRecommendation"
   ]
  },
  {
   "cell_type": "code",
   "execution_count": null,
   "id": "d96c07a5",
   "metadata": {},
   "outputs": [],
   "source": [
    "df = Hypothesis().df_2.copy()\n",
    "Hypothesis().run_complete_hypothesis_1_analysis(df)"
   ]
  },
  {
   "cell_type": "markdown",
   "id": "7a63a581",
   "metadata": {},
   "source": [
    "# Final Recommendation"
   ]
  },
  {
   "cell_type": "code",
   "execution_count": null,
   "id": "fe34edf8",
   "metadata": {},
   "outputs": [],
   "source": [
    "from eda_hypothesis import Hypothesis, FinalRecommendation\n",
    "\n",
    "map, top_3 = FinalRecommendation().run_property_recommendation_with_map(df)"
   ]
  }
 ],
 "metadata": {
  "kernelspec": {
   "display_name": ".venv",
   "language": "python",
   "name": "python3"
  },
  "language_info": {
   "codemirror_mode": {
    "name": "ipython",
    "version": 3
   },
   "file_extension": ".py",
   "mimetype": "text/x-python",
   "name": "python",
   "nbconvert_exporter": "python",
   "pygments_lexer": "ipython3",
   "version": "3.11.3"
  }
 },
 "nbformat": 4,
 "nbformat_minor": 5
}
