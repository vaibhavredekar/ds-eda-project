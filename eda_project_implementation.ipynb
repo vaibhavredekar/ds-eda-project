{
 "cells": [
  {
   "cell_type": "markdown",
   "id": "a9d59d11",
   "metadata": {},
   "source": [
    "### EDA Project\n",
    "\n",
    "I have selected the client Timothy Stevens who is a seller and who owns expensive houses in the center, needs to get rid, best timing within a year, open for renovation when profits rise.\n",
    "\n",
    "To the following stake holder requirements I have formulated the following hypothesis.\n",
    "\n",
    "**Hypothesis:**\n",
    "\n",
    "1. Price adjustment to the expensive apartments can cause a sale within a period of one year.<br>\n",
    "2. Renovating the current state of the apartments would lead to increase in profit margins.<br>\n",
    "3. Homes in central zip codes have higher prices regardless of grade or condition.<br>"
   ]
  },
  {
   "cell_type": "markdown",
   "id": "6b333d3a",
   "metadata": {},
   "source": [
    "1. Handle the Imports"
   ]
  },
  {
   "cell_type": "code",
   "execution_count": null,
   "id": "f1799c17",
   "metadata": {},
   "outputs": [],
   "source": [
    "import pandas as pd\n",
    "import numpy as np\n",
    "from time import sleep\n",
    "import missingno as msno\n",
    "pd.__version__"
   ]
  },
  {
   "cell_type": "markdown",
   "id": "55fd2366",
   "metadata": {},
   "source": [
    "1.1 Get Data into dataframes"
   ]
  },
  {
   "cell_type": "code",
   "execution_count": null,
   "id": "d6dc04f7",
   "metadata": {},
   "outputs": [],
   "source": [
    "df_prices = pd.read_csv('data\\eda_price_data.csv', delimiter=',')\n",
    "df_housing = pd.read_csv('data\\eda_house_details.csv', delimiter=',')\n"
   ]
  },
  {
   "cell_type": "markdown",
   "id": "465f0ac3",
   "metadata": {},
   "source": [
    "1.2 Check the individual data"
   ]
  },
  {
   "cell_type": "code",
   "execution_count": null,
   "id": "c7ebac20",
   "metadata": {},
   "outputs": [],
   "source": [
    "price_data_list = [df_prices.head(10),df_prices.info()]\n",
    "\n",
    "for i in price_data_list:\n",
    "    print(i)\n"
   ]
  },
  {
   "cell_type": "code",
   "execution_count": null,
   "id": "0794eedb",
   "metadata": {},
   "outputs": [],
   "source": [
    "housing_data_list = [df_housing.head(10),df_housing.info()]\n",
    "\n",
    "for i in housing_data_list:\n",
    "    print(i)"
   ]
  },
  {
   "cell_type": "code",
   "execution_count": null,
   "id": "2a882c1b",
   "metadata": {},
   "outputs": [],
   "source": [
    "# Finding clues within the data for better decision making\n",
    "\n",
    "msno.bar(df_housing)\n",
    "msno.matrix(df_housing)"
   ]
  },
  {
   "cell_type": "code",
   "execution_count": null,
   "id": "d5b26238",
   "metadata": {},
   "outputs": [],
   "source": [
    "# Finding clues within the data for better decision making\n",
    "\n",
    "msno.bar(df_prices)\n",
    "msno.matrix(df_prices)"
   ]
  },
  {
   "cell_type": "code",
   "execution_count": null,
   "id": "4bff108c",
   "metadata": {},
   "outputs": [],
   "source": [
    "df_prices.head(20)"
   ]
  },
  {
   "cell_type": "code",
   "execution_count": null,
   "id": "2737113a",
   "metadata": {},
   "outputs": [],
   "source": [
    "# Join the pandas table based upon the primary_key\n",
    "df_housing.head(20)"
   ]
  },
  {
   "cell_type": "code",
   "execution_count": null,
   "id": "df4aba08",
   "metadata": {},
   "outputs": [],
   "source": [
    "updated_prices = df_prices.sort_values(by =['house_id'])\n",
    "updated_prices.reset_index(inplace=True)\n",
    "# updated_prices.head()"
   ]
  },
  {
   "cell_type": "code",
   "execution_count": null,
   "id": "dad635c9",
   "metadata": {},
   "outputs": [],
   "source": [
    "# Join the tables now\n",
    "df_list = [df_housing, updated_prices]\n",
    "# result = pd.concat(df_list, axis=1).reindex(df_housing.index)\n",
    "# result = pd.concat(df_list, axis=1, join=\"inner\")\n",
    "# result\n",
    "# updated_prices"
   ]
  },
  {
   "cell_type": "code",
   "execution_count": null,
   "id": "d8e5d12f",
   "metadata": {},
   "outputs": [],
   "source": []
  },
  {
   "cell_type": "markdown",
   "id": "7d1a3a0a",
   "metadata": {},
   "source": [
    "# 1. Data Cleaning\n",
    "\n",
    "-------\n",
    "\n",
    "### 1.1 Data exploration and cleaning the data \n",
    "-------\n",
    "* Filtering the columns for our Hypothesis\n",
    "* Remove unneccessary data\n",
    "* Drop duplicates if present in the dataset\n"
   ]
  },
  {
   "cell_type": "code",
   "execution_count": null,
   "id": "bc8e9318",
   "metadata": {},
   "outputs": [],
   "source": [
    "# Read the housing price data \n",
    "def re_read_df_housing_price():\n",
    "    return  pd.read_csv('data\\eda_house_price_details.csv', delimiter=',')\n",
    "\n",
    "df_housing_prices_data = re_read_df_housing_price()\n",
    "\n",
    "df_housing_prices_data.head(10)\n",
    "df_housing_prices_data.tail(10)\n",
    "\n"
   ]
  },
  {
   "cell_type": "code",
   "execution_count": 231,
   "id": "3f1e4de6",
   "metadata": {},
   "outputs": [
    {
     "data": {
      "text/html": [
       "<div>\n",
       "<style scoped>\n",
       "    .dataframe tbody tr th:only-of-type {\n",
       "        vertical-align: middle;\n",
       "    }\n",
       "\n",
       "    .dataframe tbody tr th {\n",
       "        vertical-align: top;\n",
       "    }\n",
       "\n",
       "    .dataframe thead th {\n",
       "        text-align: right;\n",
       "    }\n",
       "</style>\n",
       "<table border=\"1\" class=\"dataframe\">\n",
       "  <thead>\n",
       "    <tr style=\"text-align: right;\">\n",
       "      <th></th>\n",
       "      <th>id</th>\n",
       "      <th>bedrooms</th>\n",
       "      <th>bathrooms</th>\n",
       "      <th>sqft_living</th>\n",
       "      <th>sqft_lot</th>\n",
       "      <th>floors</th>\n",
       "      <th>waterfront</th>\n",
       "      <th>view</th>\n",
       "      <th>condition</th>\n",
       "      <th>grade</th>\n",
       "      <th>...</th>\n",
       "      <th>sqft_basement</th>\n",
       "      <th>yr_built</th>\n",
       "      <th>yr_renovated</th>\n",
       "      <th>zipcode</th>\n",
       "      <th>lat</th>\n",
       "      <th>long</th>\n",
       "      <th>sqft_living15</th>\n",
       "      <th>sqft_lot15</th>\n",
       "      <th>date</th>\n",
       "      <th>price</th>\n",
       "    </tr>\n",
       "  </thead>\n",
       "  <tbody>\n",
       "    <tr>\n",
       "      <th>0</th>\n",
       "      <td>7129300520</td>\n",
       "      <td>3.0</td>\n",
       "      <td>1.00</td>\n",
       "      <td>1180.0</td>\n",
       "      <td>5650.0</td>\n",
       "      <td>1.0</td>\n",
       "      <td>NaN</td>\n",
       "      <td>0.0</td>\n",
       "      <td>3</td>\n",
       "      <td>7</td>\n",
       "      <td>...</td>\n",
       "      <td>0.0</td>\n",
       "      <td>1955</td>\n",
       "      <td>0.0</td>\n",
       "      <td>98178</td>\n",
       "      <td>47.5112</td>\n",
       "      <td>-122.257</td>\n",
       "      <td>1340.0</td>\n",
       "      <td>5650.0</td>\n",
       "      <td>2014-10-13</td>\n",
       "      <td>221900.0</td>\n",
       "    </tr>\n",
       "    <tr>\n",
       "      <th>1</th>\n",
       "      <td>6414100192</td>\n",
       "      <td>3.0</td>\n",
       "      <td>2.25</td>\n",
       "      <td>2570.0</td>\n",
       "      <td>7242.0</td>\n",
       "      <td>2.0</td>\n",
       "      <td>0.0</td>\n",
       "      <td>0.0</td>\n",
       "      <td>3</td>\n",
       "      <td>7</td>\n",
       "      <td>...</td>\n",
       "      <td>400.0</td>\n",
       "      <td>1951</td>\n",
       "      <td>19910.0</td>\n",
       "      <td>98125</td>\n",
       "      <td>47.7210</td>\n",
       "      <td>-122.319</td>\n",
       "      <td>1690.0</td>\n",
       "      <td>7639.0</td>\n",
       "      <td>2014-12-09</td>\n",
       "      <td>538000.0</td>\n",
       "    </tr>\n",
       "    <tr>\n",
       "      <th>2</th>\n",
       "      <td>5631500400</td>\n",
       "      <td>2.0</td>\n",
       "      <td>1.00</td>\n",
       "      <td>770.0</td>\n",
       "      <td>10000.0</td>\n",
       "      <td>1.0</td>\n",
       "      <td>0.0</td>\n",
       "      <td>0.0</td>\n",
       "      <td>3</td>\n",
       "      <td>6</td>\n",
       "      <td>...</td>\n",
       "      <td>0.0</td>\n",
       "      <td>1933</td>\n",
       "      <td>NaN</td>\n",
       "      <td>98028</td>\n",
       "      <td>47.7379</td>\n",
       "      <td>-122.233</td>\n",
       "      <td>2720.0</td>\n",
       "      <td>8062.0</td>\n",
       "      <td>2015-02-25</td>\n",
       "      <td>180000.0</td>\n",
       "    </tr>\n",
       "    <tr>\n",
       "      <th>3</th>\n",
       "      <td>2487200875</td>\n",
       "      <td>4.0</td>\n",
       "      <td>3.00</td>\n",
       "      <td>1960.0</td>\n",
       "      <td>5000.0</td>\n",
       "      <td>1.0</td>\n",
       "      <td>0.0</td>\n",
       "      <td>0.0</td>\n",
       "      <td>5</td>\n",
       "      <td>7</td>\n",
       "      <td>...</td>\n",
       "      <td>910.0</td>\n",
       "      <td>1965</td>\n",
       "      <td>0.0</td>\n",
       "      <td>98136</td>\n",
       "      <td>47.5208</td>\n",
       "      <td>-122.393</td>\n",
       "      <td>1360.0</td>\n",
       "      <td>5000.0</td>\n",
       "      <td>2014-12-09</td>\n",
       "      <td>604000.0</td>\n",
       "    </tr>\n",
       "    <tr>\n",
       "      <th>4</th>\n",
       "      <td>1954400510</td>\n",
       "      <td>3.0</td>\n",
       "      <td>2.00</td>\n",
       "      <td>1680.0</td>\n",
       "      <td>8080.0</td>\n",
       "      <td>1.0</td>\n",
       "      <td>0.0</td>\n",
       "      <td>0.0</td>\n",
       "      <td>3</td>\n",
       "      <td>8</td>\n",
       "      <td>...</td>\n",
       "      <td>0.0</td>\n",
       "      <td>1987</td>\n",
       "      <td>0.0</td>\n",
       "      <td>98074</td>\n",
       "      <td>47.6168</td>\n",
       "      <td>-122.045</td>\n",
       "      <td>1800.0</td>\n",
       "      <td>7503.0</td>\n",
       "      <td>2015-02-18</td>\n",
       "      <td>510000.0</td>\n",
       "    </tr>\n",
       "    <tr>\n",
       "      <th>5</th>\n",
       "      <td>7237550310</td>\n",
       "      <td>4.0</td>\n",
       "      <td>4.50</td>\n",
       "      <td>5420.0</td>\n",
       "      <td>101930.0</td>\n",
       "      <td>1.0</td>\n",
       "      <td>0.0</td>\n",
       "      <td>0.0</td>\n",
       "      <td>3</td>\n",
       "      <td>11</td>\n",
       "      <td>...</td>\n",
       "      <td>1530.0</td>\n",
       "      <td>2001</td>\n",
       "      <td>0.0</td>\n",
       "      <td>98053</td>\n",
       "      <td>47.6561</td>\n",
       "      <td>-122.005</td>\n",
       "      <td>4760.0</td>\n",
       "      <td>101930.0</td>\n",
       "      <td>2014-05-12</td>\n",
       "      <td>1230000.0</td>\n",
       "    </tr>\n",
       "    <tr>\n",
       "      <th>6</th>\n",
       "      <td>1321400060</td>\n",
       "      <td>3.0</td>\n",
       "      <td>2.25</td>\n",
       "      <td>1715.0</td>\n",
       "      <td>6819.0</td>\n",
       "      <td>2.0</td>\n",
       "      <td>0.0</td>\n",
       "      <td>0.0</td>\n",
       "      <td>3</td>\n",
       "      <td>7</td>\n",
       "      <td>...</td>\n",
       "      <td>NaN</td>\n",
       "      <td>1995</td>\n",
       "      <td>0.0</td>\n",
       "      <td>98003</td>\n",
       "      <td>47.3097</td>\n",
       "      <td>-122.327</td>\n",
       "      <td>2238.0</td>\n",
       "      <td>6819.0</td>\n",
       "      <td>2014-06-27</td>\n",
       "      <td>257500.0</td>\n",
       "    </tr>\n",
       "    <tr>\n",
       "      <th>7</th>\n",
       "      <td>2008000270</td>\n",
       "      <td>3.0</td>\n",
       "      <td>1.50</td>\n",
       "      <td>1060.0</td>\n",
       "      <td>9711.0</td>\n",
       "      <td>1.0</td>\n",
       "      <td>0.0</td>\n",
       "      <td>NaN</td>\n",
       "      <td>3</td>\n",
       "      <td>7</td>\n",
       "      <td>...</td>\n",
       "      <td>0.0</td>\n",
       "      <td>1963</td>\n",
       "      <td>0.0</td>\n",
       "      <td>98198</td>\n",
       "      <td>47.4095</td>\n",
       "      <td>-122.315</td>\n",
       "      <td>1650.0</td>\n",
       "      <td>9711.0</td>\n",
       "      <td>2015-01-15</td>\n",
       "      <td>291850.0</td>\n",
       "    </tr>\n",
       "    <tr>\n",
       "      <th>8</th>\n",
       "      <td>2414600126</td>\n",
       "      <td>3.0</td>\n",
       "      <td>1.00</td>\n",
       "      <td>1780.0</td>\n",
       "      <td>7470.0</td>\n",
       "      <td>1.0</td>\n",
       "      <td>0.0</td>\n",
       "      <td>0.0</td>\n",
       "      <td>3</td>\n",
       "      <td>7</td>\n",
       "      <td>...</td>\n",
       "      <td>730.0</td>\n",
       "      <td>1960</td>\n",
       "      <td>0.0</td>\n",
       "      <td>98146</td>\n",
       "      <td>47.5123</td>\n",
       "      <td>-122.337</td>\n",
       "      <td>1780.0</td>\n",
       "      <td>8113.0</td>\n",
       "      <td>2015-04-15</td>\n",
       "      <td>229500.0</td>\n",
       "    </tr>\n",
       "    <tr>\n",
       "      <th>9</th>\n",
       "      <td>3793500160</td>\n",
       "      <td>3.0</td>\n",
       "      <td>2.50</td>\n",
       "      <td>1890.0</td>\n",
       "      <td>6560.0</td>\n",
       "      <td>2.0</td>\n",
       "      <td>0.0</td>\n",
       "      <td>0.0</td>\n",
       "      <td>3</td>\n",
       "      <td>7</td>\n",
       "      <td>...</td>\n",
       "      <td>0.0</td>\n",
       "      <td>2003</td>\n",
       "      <td>0.0</td>\n",
       "      <td>98038</td>\n",
       "      <td>47.3684</td>\n",
       "      <td>-122.031</td>\n",
       "      <td>2390.0</td>\n",
       "      <td>7570.0</td>\n",
       "      <td>2015-03-12</td>\n",
       "      <td>323000.0</td>\n",
       "    </tr>\n",
       "  </tbody>\n",
       "</table>\n",
       "<p>10 rows × 21 columns</p>\n",
       "</div>"
      ],
      "text/plain": [
       "           id  bedrooms  bathrooms  sqft_living  sqft_lot  floors  waterfront  \\\n",
       "0  7129300520       3.0       1.00       1180.0    5650.0     1.0         NaN   \n",
       "1  6414100192       3.0       2.25       2570.0    7242.0     2.0         0.0   \n",
       "2  5631500400       2.0       1.00        770.0   10000.0     1.0         0.0   \n",
       "3  2487200875       4.0       3.00       1960.0    5000.0     1.0         0.0   \n",
       "4  1954400510       3.0       2.00       1680.0    8080.0     1.0         0.0   \n",
       "5  7237550310       4.0       4.50       5420.0  101930.0     1.0         0.0   \n",
       "6  1321400060       3.0       2.25       1715.0    6819.0     2.0         0.0   \n",
       "7  2008000270       3.0       1.50       1060.0    9711.0     1.0         0.0   \n",
       "8  2414600126       3.0       1.00       1780.0    7470.0     1.0         0.0   \n",
       "9  3793500160       3.0       2.50       1890.0    6560.0     2.0         0.0   \n",
       "\n",
       "   view  condition  grade  ...  sqft_basement  yr_built  yr_renovated  \\\n",
       "0   0.0          3      7  ...            0.0      1955           0.0   \n",
       "1   0.0          3      7  ...          400.0      1951       19910.0   \n",
       "2   0.0          3      6  ...            0.0      1933           NaN   \n",
       "3   0.0          5      7  ...          910.0      1965           0.0   \n",
       "4   0.0          3      8  ...            0.0      1987           0.0   \n",
       "5   0.0          3     11  ...         1530.0      2001           0.0   \n",
       "6   0.0          3      7  ...            NaN      1995           0.0   \n",
       "7   NaN          3      7  ...            0.0      1963           0.0   \n",
       "8   0.0          3      7  ...          730.0      1960           0.0   \n",
       "9   0.0          3      7  ...            0.0      2003           0.0   \n",
       "\n",
       "   zipcode      lat     long  sqft_living15  sqft_lot15        date      price  \n",
       "0    98178  47.5112 -122.257         1340.0      5650.0  2014-10-13   221900.0  \n",
       "1    98125  47.7210 -122.319         1690.0      7639.0  2014-12-09   538000.0  \n",
       "2    98028  47.7379 -122.233         2720.0      8062.0  2015-02-25   180000.0  \n",
       "3    98136  47.5208 -122.393         1360.0      5000.0  2014-12-09   604000.0  \n",
       "4    98074  47.6168 -122.045         1800.0      7503.0  2015-02-18   510000.0  \n",
       "5    98053  47.6561 -122.005         4760.0    101930.0  2014-05-12  1230000.0  \n",
       "6    98003  47.3097 -122.327         2238.0      6819.0  2014-06-27   257500.0  \n",
       "7    98198  47.4095 -122.315         1650.0      9711.0  2015-01-15   291850.0  \n",
       "8    98146  47.5123 -122.337         1780.0      8113.0  2015-04-15   229500.0  \n",
       "9    98038  47.3684 -122.031         2390.0      7570.0  2015-03-12   323000.0  \n",
       "\n",
       "[10 rows x 21 columns]"
      ]
     },
     "execution_count": 231,
     "metadata": {},
     "output_type": "execute_result"
    }
   ],
   "source": [
    "# Exploring within the data\n",
    "\n",
    "#Check the dataset\n",
    "df_housing_prices_data.head(10)"
   ]
  },
  {
   "cell_type": "code",
   "execution_count": null,
   "id": "b684b8ab",
   "metadata": {},
   "outputs": [
    {
     "name": "stdout",
     "output_type": "stream",
     "text": [
      "Created id.csv\n"
     ]
    }
   ],
   "source": [
    "# Test the value count are singular/duplicates for a column data via csv files\n",
    "def check_dups_via_csv(df,df_column,name='default.csv'):\n",
    "    df[df_column].value_counts().to_csv(name)\n",
    "    print(f'Created {name}')\n",
    "\n",
    "# Test\n",
    "# check_dups_via_csv(df_housing_prices_data, 'id', 'id.csv')"
   ]
  },
  {
   "cell_type": "code",
   "execution_count": null,
   "id": "f8dcc137",
   "metadata": {},
   "outputs": [],
   "source": [
    "msno.bar(df_housing_prices_data,color='orange')\n",
    "msno.matrix(df_housing_prices_data, sparkline=True, figsize=(10,5), fontsize=12, color=(0.5, 0.58, 0.2))"
   ]
  },
  {
   "cell_type": "code",
   "execution_count": null,
   "id": "e59d194a",
   "metadata": {},
   "outputs": [],
   "source": [
    "#Check if the column naming has no spaces or any unncessary char\n",
    "df_housing_prices_data.columns"
   ]
  },
  {
   "cell_type": "code",
   "execution_count": 246,
   "id": "8b502d1e",
   "metadata": {},
   "outputs": [
    {
     "data": {
      "text/plain": [
       "False    21420\n",
       "Name: count, dtype: int64"
      ]
     },
     "execution_count": 246,
     "metadata": {},
     "output_type": "execute_result"
    }
   ],
   "source": [
    "# Check for the duplicates within the dataset\n",
    "df_housing_prices_data.duplicated().value_counts()"
   ]
  },
  {
   "cell_type": "code",
   "execution_count": null,
   "id": "068ccc4d",
   "metadata": {},
   "outputs": [],
   "source": [
    "# Check the datatypes\n",
    "df_housing_prices_data.dtypes\n",
    "df_housing_prices_data.info()"
   ]
  },
  {
   "cell_type": "code",
   "execution_count": null,
   "id": "91caa08a",
   "metadata": {},
   "outputs": [],
   "source": [
    "# Change the date to datetime format %Y/%m/%d\n",
    "print('Before:',df_housing_prices_data.date[100],'\\n\\t',type(df_housing_prices_data.date[100]) )\n",
    "df_housing_prices_data['date'] = pd.to_datetime(df_housing_prices_data['date'], format='%Y-%m-%d')\n",
    "print('After:',df_housing_prices_data.date[100],'\\n\\t',type(df_housing_prices_data.date[100]))"
   ]
  },
  {
   "cell_type": "code",
   "execution_count": null,
   "id": "0523c94d",
   "metadata": {},
   "outputs": [],
   "source": [
    "# Seems issue with the year renovated column\n",
    "# Should be int but is float\n",
    "\n",
    "def ret_df_unique_values(df, df_col, text=''):\n",
    "    unique_years = df[df_col].unique()\n",
    "    print('\\n',text,unique_years,'\\n', type(unique_years),'\\n',type(unique_years[0]),'\\n',len(unique_years),'\\n',df[df_col].shape )\n",
    "    return unique_years\n",
    "\n",
    "# df_housing_prices_data = re_read_df_housing_price()\n",
    "print(df_housing_prices_data.yr_renovated.shape)\n",
    "ret_df_unique_values(df_housing_prices_data, 'yr_renovated', 'Before:')\n",
    "\n",
    "# First converting yr_renovated to string and removing the last appended entries\n",
    "df_housing_prices_data['yr_renovated'] = df_housing_prices_data['yr_renovated'].astype(str).str[:-3] \n",
    "\n",
    "# Replacing the empty string with 0 and changing type to in\n",
    "df_housing_prices_data['yr_renovated'] = df_housing_prices_data['yr_renovated'].replace('',0).astype(int)\n",
    "ret_df_unique_values(df_housing_prices_data, 'yr_renovated', 'After3:')\n",
    "\n",
    "#Checking if the len remains same , consistent with data\n",
    "print(df_housing_prices_data.yr_renovated.shape)\n"
   ]
  },
  {
   "cell_type": "code",
   "execution_count": null,
   "id": "ff744ee2",
   "metadata": {},
   "outputs": [],
   "source": [
    "df_housing_prices_data.head(10)"
   ]
  },
  {
   "cell_type": "code",
   "execution_count": null,
   "id": "41e234d1",
   "metadata": {},
   "outputs": [],
   "source": [
    "# Other thing to notice is the number of bedrooms and bathrooms are floats\n",
    "# Converting to int\n",
    "df_housing_prices_data.bedrooms = df_housing_prices_data.bedrooms.astype(int)\n",
    "ret_df_unique_values(df_housing_prices_data,'bedrooms')\n",
    "\n",
    "# Rounding of and converting to int\n",
    "df_housing_prices_data['bathrooms'] = df_housing_prices_data['bathrooms'].round().astype(int)\n",
    "ret_df_unique_values(df_housing_prices_data,'bathrooms','bathrooms')\n"
   ]
  },
  {
   "cell_type": "code",
   "execution_count": null,
   "id": "d90ac3ef",
   "metadata": {},
   "outputs": [],
   "source": [
    "# Confirm the waterfront houses and replace the nan with 0\n",
    "print(df_housing_prices_data['waterfront'].value_counts(),\n",
    "df_housing_prices_data.waterfront.shape,\n",
    "df_housing_prices_data.waterfront.unique(),\n",
    ")\n",
    "\n",
    "df_housing_prices_data['waterfront'] = df_housing_prices_data['waterfront'].fillna(0)\n",
    "print(df_housing_prices_data['waterfront'].value_counts(),\n",
    "df_housing_prices_data.waterfront.shape,\n",
    "df_housing_prices_data.waterfront.unique(),\n",
    ")"
   ]
  },
  {
   "cell_type": "code",
   "execution_count": null,
   "id": "8cd0deff",
   "metadata": {},
   "outputs": [],
   "source": [
    "# Issue with the type of the floors column\n",
    "# df_housing_prices_data = re_read_df_housing_price()\n",
    "\n",
    "ret_df_unique_values(df_housing_prices_data,'floors','Before')\n",
    "df_housing_prices_data['floors'] = round(df_housing_prices_data['floors'])\n",
    "ret_df_unique_values(df_housing_prices_data,'floors','After')"
   ]
  },
  {
   "cell_type": "code",
   "execution_count": null,
   "id": "b97398d1",
   "metadata": {},
   "outputs": [],
   "source": [
    "# Data type of view column from float to int and replace all nan to 0\n",
    "ret_df_unique_values(df_housing_prices_data,'view','Before')\n",
    "df_housing_prices_data['view'] = df_housing_prices_data['view'].fillna(0).astype(int)\n",
    "ret_df_unique_values(df_housing_prices_data,'view','After')\n"
   ]
  },
  {
   "cell_type": "code",
   "execution_count": null,
   "id": "5b5c8769",
   "metadata": {},
   "outputs": [],
   "source": [
    "#No issue with grade and condition\n",
    "ret_df_unique_values(df_housing_prices_data,'grade','Before')\n",
    "ret_df_unique_values(df_housing_prices_data,'condition','Before')\n"
   ]
  },
  {
   "cell_type": "code",
   "execution_count": null,
   "id": "7db644fe",
   "metadata": {},
   "outputs": [
    {
     "name": "stdout",
     "output_type": "stream",
     "text": [
      "\n",
      " Before [7129300520 6414100192 5631500400 ... 1523300141  291310100 1523300157] \n",
      " <class 'numpy.ndarray'> \n",
      " <class 'numpy.int64'> \n",
      " 21420 \n",
      " (21597,)\n",
      "Created default.csv\n",
      "\n",
      " After [7129300520 6414100192 5631500400 ... 1523300141  291310100 1523300157] \n",
      " <class 'numpy.ndarray'> \n",
      " <class 'numpy.int64'> \n",
      " 21420 \n",
      " (21420,)\n",
      "Created default.csv\n"
     ]
    }
   ],
   "source": [
    "# Removing all the houses with duplicate id's\n",
    "# df_housing_prices_data = re_read_df_housing_price()\n",
    "df_housing_prices_data[df_housing_prices_data.id.duplicated()]\n",
    "\n",
    "ret_df_unique_values(df_housing_prices_data,'id','Before')\n",
    "# check_dups_via_csv(df_housing_prices_data,'id')\n",
    "\n",
    "df_housing_prices_data = df_housing_prices_data.drop_duplicates(subset=['id'], keep='first')\n",
    "ret_df_unique_values(df_housing_prices_data,'id','After')\n",
    "# check_dups_via_csv(df_housing_prices_data,'id')"
   ]
  },
  {
   "cell_type": "code",
   "execution_count": null,
   "id": "71ac9fe4",
   "metadata": {},
   "outputs": [],
   "source": [
    "# Determine for these values\n",
    "# ret_df_unique_values(df_housing_prices_data,'sqft_basement','Before')\n",
    "\n",
    "\n",
    "# ret_df_unique_values(df_housing_prices_data,'sqft_living15','Before')\n",
    "# ret_df_unique_values(df_housing_prices_data,'sqft_lot15','Before')"
   ]
  },
  {
   "cell_type": "code",
   "execution_count": null,
   "id": "e554b4e9",
   "metadata": {},
   "outputs": [],
   "source": [
    "\"\"\"\n",
    "# Seems like there are some duplicates with the same ID.\n",
    "ret_df_unique_values(df_housing_prices_data,'id','Before')\n",
    "df_housing_prices_data = df_housing_prices_data.drop_duplicates(subset=['id'], keep='first')\n",
    "\n",
    "# df_housing_prices_data_cleaned = df_housing_prices_data.astype(str).drop_duplicates(keep='first',inplace=True)\n",
    "df_housing_prices_data.id.duplicated().value_counts()\n",
    "ret_df_unique_values(df_housing_prices_data,'id','After')\n",
    "\"\"\""
   ]
  }
 ],
 "metadata": {
  "kernelspec": {
   "display_name": ".venv",
   "language": "python",
   "name": "python3"
  },
  "language_info": {
   "codemirror_mode": {
    "name": "ipython",
    "version": 3
   },
   "file_extension": ".py",
   "mimetype": "text/x-python",
   "name": "python",
   "nbconvert_exporter": "python",
   "pygments_lexer": "ipython3",
   "version": "3.11.3"
  }
 },
 "nbformat": 4,
 "nbformat_minor": 5
}
