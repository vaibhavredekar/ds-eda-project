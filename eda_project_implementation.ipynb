{
 "cells": [
  {
   "cell_type": "markdown",
   "id": "a9d59d11",
   "metadata": {},
   "source": [
    "### EDA Project\n",
    "\n",
    "I have selected the client Timothy Stevens who is a seller and who owns expensive houses in the center, needs to get rid, best timing within a year, open for renovation when profits rise.\n",
    "\n",
    "To the following stake holder requirements I have formulated the following hypothesis.\n",
    "\n",
    "**Hypothesis:**\n",
    "\n",
    "1. Price adjustment to the expensive apartments can cause a sale within a period of one year.<br>\n",
    "2. Renovating the current state of the apartments would lead to increase in profit margins.<br>\n",
    "3. Homes in central zip codes have higher prices regardless of grade or condition.<br>"
   ]
  },
  {
   "cell_type": "markdown",
   "id": "6b333d3a",
   "metadata": {},
   "source": [
    "1. Handle the Imports"
   ]
  },
  {
   "cell_type": "code",
   "execution_count": 1,
   "id": "f1799c17",
   "metadata": {},
   "outputs": [
    {
     "data": {
      "text/plain": [
       "'2.3.3'"
      ]
     },
     "execution_count": 1,
     "metadata": {},
     "output_type": "execute_result"
    }
   ],
   "source": [
    "import pandas as pd\n",
    "import numpy as np\n",
    "from time import sleep\n",
    "import missingno as msno\n",
    "import matplotlib.pyplot as plt\n",
    "import plotly.express as px\n",
    "import geopandas as gpd\n",
    "import fsspec\n",
    "from shapely.geometry import Point\n",
    "pd.__version__"
   ]
  },
  {
   "cell_type": "markdown",
   "id": "55fd2366",
   "metadata": {},
   "source": [
    "1.1 Get Data into dataframes"
   ]
  },
  {
   "cell_type": "code",
   "execution_count": null,
   "id": "d6dc04f7",
   "metadata": {},
   "outputs": [],
   "source": [
    "df_prices = pd.read_csv('data\\eda_price_data.csv', delimiter=',')\n",
    "df_housing = pd.read_csv('data\\eda_house_details.csv', delimiter=',')\n"
   ]
  },
  {
   "cell_type": "markdown",
   "id": "465f0ac3",
   "metadata": {},
   "source": [
    "1.2 Check the individual data"
   ]
  },
  {
   "cell_type": "code",
   "execution_count": null,
   "id": "c7ebac20",
   "metadata": {},
   "outputs": [],
   "source": [
    "price_data_list = [df_prices.head(10),df_prices.info()]\n",
    "\n",
    "for i in price_data_list:\n",
    "    print(i)\n"
   ]
  },
  {
   "cell_type": "code",
   "execution_count": null,
   "id": "0794eedb",
   "metadata": {},
   "outputs": [],
   "source": [
    "housing_data_list = [df_housing.head(10),df_housing.info()]\n",
    "\n",
    "for i in housing_data_list:\n",
    "    print(i)"
   ]
  },
  {
   "cell_type": "code",
   "execution_count": null,
   "id": "2a882c1b",
   "metadata": {},
   "outputs": [],
   "source": [
    "# Finding clues within the data for better decision making\n",
    "\n",
    "msno.bar(df_housing)\n",
    "msno.matrix(df_housing)"
   ]
  },
  {
   "cell_type": "code",
   "execution_count": null,
   "id": "d5b26238",
   "metadata": {},
   "outputs": [],
   "source": [
    "# Finding clues within the data for better decision making\n",
    "\n",
    "msno.bar(df_prices)\n",
    "msno.matrix(df_prices)"
   ]
  },
  {
   "cell_type": "code",
   "execution_count": null,
   "id": "4bff108c",
   "metadata": {},
   "outputs": [],
   "source": [
    "df_prices.head(20)"
   ]
  },
  {
   "cell_type": "code",
   "execution_count": null,
   "id": "2737113a",
   "metadata": {},
   "outputs": [],
   "source": [
    "# Join the pandas table based upon the primary_key\n",
    "df_housing.head(20)"
   ]
  },
  {
   "cell_type": "code",
   "execution_count": null,
   "id": "df4aba08",
   "metadata": {},
   "outputs": [],
   "source": [
    "updated_prices = df_prices.sort_values(by =['house_id'])\n",
    "updated_prices.reset_index(inplace=True)\n",
    "# updated_prices.head()"
   ]
  },
  {
   "cell_type": "code",
   "execution_count": null,
   "id": "dad635c9",
   "metadata": {},
   "outputs": [],
   "source": [
    "# Join the tables now\n",
    "df_list = [df_housing, updated_prices]\n",
    "# result = pd.concat(df_list, axis=1).reindex(df_housing.index)\n",
    "# result = pd.concat(df_list, axis=1, join=\"inner\")\n",
    "# result\n",
    "# updated_prices"
   ]
  },
  {
   "cell_type": "code",
   "execution_count": null,
   "id": "d8e5d12f",
   "metadata": {},
   "outputs": [],
   "source": []
  },
  {
   "cell_type": "markdown",
   "id": "7d1a3a0a",
   "metadata": {},
   "source": [
    "# 1. Data Cleaning\n",
    "\n",
    "-------\n",
    "\n",
    "### 1.1 Data exploration and cleaning the data \n",
    "-------\n",
    "* Filtering the columns for our Hypothesis\n",
    "* Remove unneccessary data\n",
    "* Drop duplicates if present in the dataset\n"
   ]
  },
  {
   "cell_type": "code",
   "execution_count": null,
   "id": "bc8e9318",
   "metadata": {},
   "outputs": [],
   "source": [
    "# Read the housing price data \n",
    "def re_read_df_housing_price():\n",
    "    return  pd.read_csv('data\\eda_house_price_details.csv', delimiter=',')\n",
    "\n",
    "df_housing_prices_data = re_read_df_housing_price()\n",
    "\n",
    "df_housing_prices_data.head(10)\n",
    "df_housing_prices_data.tail(10)\n",
    "\n"
   ]
  },
  {
   "cell_type": "code",
   "execution_count": null,
   "id": "3f1e4de6",
   "metadata": {},
   "outputs": [],
   "source": [
    "# Exploring within the data\n",
    "\n",
    "#Check the dataset\n",
    "df_housing_prices_data.head(10)"
   ]
  },
  {
   "cell_type": "code",
   "execution_count": null,
   "id": "b684b8ab",
   "metadata": {},
   "outputs": [],
   "source": [
    "# Test the value count are singular/duplicates for a column data via csv files\n",
    "def check_dups_via_csv(df,df_column,name='default.csv'):\n",
    "    df[df_column].value_counts().to_csv(name)\n",
    "    print(f'Created {name}')\n",
    "\n",
    "# Test\n",
    "# check_dups_via_csv(df_housing_prices_data, 'id', 'id.csv')"
   ]
  },
  {
   "cell_type": "code",
   "execution_count": null,
   "id": "f8dcc137",
   "metadata": {},
   "outputs": [],
   "source": [
    "msno.bar(df_housing_prices_data,color='orange')\n",
    "msno.matrix(df_housing_prices_data, sparkline=True, figsize=(10,5), fontsize=12, color=(0.5, 0.58, 0.2))"
   ]
  },
  {
   "cell_type": "code",
   "execution_count": null,
   "id": "e59d194a",
   "metadata": {},
   "outputs": [],
   "source": [
    "#Check if the column naming has no spaces or any unncessary char\n",
    "df_housing_prices_data.columns"
   ]
  },
  {
   "cell_type": "code",
   "execution_count": null,
   "id": "8b502d1e",
   "metadata": {},
   "outputs": [],
   "source": [
    "# Check for the duplicates within the dataset\n",
    "df_housing_prices_data.duplicated().value_counts()"
   ]
  },
  {
   "cell_type": "code",
   "execution_count": null,
   "id": "068ccc4d",
   "metadata": {},
   "outputs": [],
   "source": [
    "# Check the datatypes\n",
    "df_housing_prices_data.dtypes\n",
    "df_housing_prices_data.info()"
   ]
  },
  {
   "cell_type": "code",
   "execution_count": null,
   "id": "91caa08a",
   "metadata": {},
   "outputs": [],
   "source": [
    "# Change the date to datetime format %Y/%m/%d\n",
    "print('Before:',df_housing_prices_data.date[100],'\\n\\t',type(df_housing_prices_data.date[100]) )\n",
    "df_housing_prices_data['date'] = pd.to_datetime(df_housing_prices_data['date'], format='%Y-%m-%d')\n",
    "print('After:',df_housing_prices_data.date[100],'\\n\\t',type(df_housing_prices_data.date[100]))"
   ]
  },
  {
   "cell_type": "code",
   "execution_count": null,
   "id": "0523c94d",
   "metadata": {},
   "outputs": [],
   "source": [
    "# Seems issue with the year renovated column\n",
    "# Should be int but is float\n",
    "\n",
    "def ret_df_unique_values(df, df_col, text=''):\n",
    "    unique_years = df[df_col].unique()\n",
    "    print('\\n',text,unique_years,'\\n', type(unique_years),'\\n',type(unique_years[0]),'\\n',len(unique_years),'\\n',df[df_col].shape )\n",
    "    return unique_years\n",
    "\n",
    "# df_housing_prices_data = re_read_df_housing_price()\n",
    "print(df_housing_prices_data.yr_renovated.shape)\n",
    "ret_df_unique_values(df_housing_prices_data, 'yr_renovated', 'Before:')\n",
    "\n",
    "# First converting yr_renovated to string and removing the last appended entries\n",
    "df_housing_prices_data['yr_renovated'] = df_housing_prices_data['yr_renovated'].astype(str).str[:-3] \n",
    "\n",
    "# Replacing the empty string with 0 and changing type to in\n",
    "df_housing_prices_data['yr_renovated'] = df_housing_prices_data['yr_renovated'].replace('',0).astype(int)\n",
    "ret_df_unique_values(df_housing_prices_data, 'yr_renovated', 'After3:')\n",
    "\n",
    "#Checking if the len remains same , consistent with data\n",
    "print(df_housing_prices_data.yr_renovated.shape)\n"
   ]
  },
  {
   "cell_type": "code",
   "execution_count": null,
   "id": "ff744ee2",
   "metadata": {},
   "outputs": [],
   "source": [
    "df_housing_prices_data.head(10)"
   ]
  },
  {
   "cell_type": "code",
   "execution_count": null,
   "id": "41e234d1",
   "metadata": {},
   "outputs": [],
   "source": [
    "# Other thing to notice is the number of bedrooms and bathrooms are floats\n",
    "# Converting to int\n",
    "\n",
    "df_housing_prices_data.bedrooms = df_housing_prices_data.bedrooms.astype(int)\n",
    "\n",
    "# df_housing_prices_data.loc[:,'bedrooms'] = df_housing_prices_data.loc[:,'waterfront'].astype(int)\n",
    "ret_df_unique_values(df_housing_prices_data,'bedrooms')\n",
    "\n",
    "# Rounding of and converting to int\n",
    "# df_housing_prices_data['bathrooms'] = df_housing_prices_data['bathrooms'].round().astype(int)\n",
    "df_housing_prices_data.loc[:,'bathrooms'] = df_housing_prices_data.loc[:,'bathrooms'].astype(int)\n",
    "\n",
    "ret_df_unique_values(df_housing_prices_data,'bathrooms','bathrooms')\n",
    "df_housing_prices_data\n"
   ]
  },
  {
   "cell_type": "code",
   "execution_count": null,
   "id": "d90ac3ef",
   "metadata": {},
   "outputs": [],
   "source": [
    "# Confirm the waterfront houses and replace the nan with 0\n",
    "print(df_housing_prices_data['waterfront'].value_counts(),\n",
    "df_housing_prices_data.waterfront.shape,\n",
    "df_housing_prices_data.waterfront.unique(),\n",
    ")\n",
    "\n",
    "df_housing_prices_data.loc[:,'waterfront'] = df_housing_prices_data.loc[:,'waterfront'].fillna(0).astype(int)\n",
    "\n",
    "#df_housing_prices_data.waterfront = df_housing_prices_data['waterfront'].fillna(0).astype(int)\n",
    "print(df_housing_prices_data['waterfront'].value_counts(),\n",
    "df_housing_prices_data.waterfront.shape,\n",
    "df_housing_prices_data.waterfront.unique(),\n",
    ")\n",
    "\n"
   ]
  },
  {
   "cell_type": "code",
   "execution_count": null,
   "id": "8cd0deff",
   "metadata": {},
   "outputs": [],
   "source": [
    "# Issue with the type of the floors column\n",
    "# df_housing_prices_data = re_read_df_housing_price()\n",
    "\n",
    "ret_df_unique_values(df_housing_prices_data,'floors','Before')\n",
    "# # df_housing_prices_data['floors'] = round(df_housing_prices_data['floors'])\n",
    "# # df_housing_prices_data.loc[:,'floors'] = round(df_housing_prices_data.loc[:,'floors']).astype('Int64')\n",
    "# df_housing_prices_data.loc[:, 'floors'] = np.round(df_housing_prices_data['floors'])#.astype('int64')  #np.floor(df_housing_prices_data['floors']).fillna(0).astype(int)\n",
    "# df_housing_prices_data.loc[:, 'floors'] = df_housing_prices_data.loc[:, 'floors'].astype(int)\n",
    "\n",
    "df_housing_prices_data['floors'] = df_housing_prices_data['floors'].astype(int)\n",
    "ret_df_unique_values(df_housing_prices_data,'floors','After')\n",
    "\n",
    "df_housing_prices_data #.floors.astype(int)"
   ]
  },
  {
   "cell_type": "code",
   "execution_count": null,
   "id": "b97398d1",
   "metadata": {},
   "outputs": [],
   "source": [
    "# Data type of view column from float to int and replace all nan to 0\n",
    "ret_df_unique_values(df_housing_prices_data,'view','Before')\n",
    "# df_housing_prices_data['view'] = df_housing_prices_data['view'].fillna(0).astype(int)\n",
    "df_housing_prices_data.loc[:,'view'] = df_housing_prices_data.loc[:,'view'].fillna(0).astype(int)\n",
    "ret_df_unique_values(df_housing_prices_data,'view','After')\n"
   ]
  },
  {
   "cell_type": "code",
   "execution_count": null,
   "id": "5b5c8769",
   "metadata": {},
   "outputs": [],
   "source": [
    "#No issue with grade and condition\n",
    "ret_df_unique_values(df_housing_prices_data,'grade','Before')\n",
    "ret_df_unique_values(df_housing_prices_data,'condition','Before')\n"
   ]
  },
  {
   "cell_type": "code",
   "execution_count": null,
   "id": "7db644fe",
   "metadata": {},
   "outputs": [],
   "source": [
    "# Removing all the houses with duplicate id's\n",
    "# df_housing_prices_data = re_read_df_housing_price()\n",
    "df_housing_prices_data[df_housing_prices_data.id.duplicated()]\n",
    "\n",
    "ret_df_unique_values(df_housing_prices_data,'id','Before')\n",
    "# check_dups_via_csv(df_housing_prices_data,'id')\n",
    "\n",
    "df_housing_prices_data = df_housing_prices_data.drop_duplicates(subset=['id'], keep='first')\n",
    "ret_df_unique_values(df_housing_prices_data,'id','After')\n",
    "# check_dups_via_csv(df_housing_prices_data,'id')"
   ]
  },
  {
   "cell_type": "code",
   "execution_count": null,
   "id": "71ac9fe4",
   "metadata": {},
   "outputs": [],
   "source": [
    "# Determine for these values\n",
    "# df_housing_prices_data = re_read_df_housing_price()\n",
    "ret_df_unique_values(df_housing_prices_data,'price','Before')\n",
    "# check_dups_via_csv(df_housing_prices_data,'price')\n",
    "\n",
    "df_housing_prices_data['price'] = df_housing_prices_data['price'].round().astype(int)\n",
    "ret_df_unique_values(df_housing_prices_data,'price','After')\n",
    "# check_dups_via_csv(df_housing_prices_data,'price')"
   ]
  },
  {
   "cell_type": "code",
   "execution_count": null,
   "id": "695c11ad",
   "metadata": {},
   "outputs": [],
   "source": [
    "# Uniqueness of the house can be determined by the 'id','yr_built','zipcode','lat','long'\n",
    "# df_housing_prices_data = re_read_df_housing_price()\n",
    "df_geolocation_filter = pd.DataFrame(zip(df_housing_prices_data['id'],df_housing_prices_data['yr_built'],df_housing_prices_data['zipcode'],df_housing_prices_data['lat'],df_housing_prices_data['long']), columns=['id','yr_built','zipcode','lat','long'])\n",
    "\n",
    "# check_dups_via_csv(df_geolocation_filter,['id','yr_built','zipcode','lat','long'], 'geo.csv')\n",
    "\n",
    "# If duplicated are found then a common function to drop \n",
    "def drop_dups_from_dataset(df,df_column,*args):\n",
    "    df = df.drop_duplicates(subset=[df_column], keep='first')\n",
    "    return df\n",
    "\n",
    "'''\n",
    "# test dups\n",
    "df_housing_prices_data_filtered = drop_dups_from_dataset(df_housing_prices_data,'id','yr_built','zipcode','lat','long')\n",
    "df_housing_prices_data_filtered.head(15)\n",
    "# recheck via csv \n",
    "check_dups_via_csv(df_housing_prices_data_filtered,['id','yr_built','zipcode','lat','long'], 'geo.csv')\n",
    "\n",
    "df_housing_prices_data_filtered.duplicated().value_counts()\n",
    "'''"
   ]
  },
  {
   "cell_type": "code",
   "execution_count": null,
   "id": "29421890",
   "metadata": {},
   "outputs": [],
   "source": [
    "'''\n",
    "# Split into two functions\n",
    "def determine_nan_n_replace_zero(df,df_column, replace= False):\n",
    "    dummy_df = df.copy()\n",
    "    if replace:\n",
    "        dummy_df.loc[:, df_column] = dummy_df[df_column].fillna(0)\n",
    "    return dummy_df[df_column] \n",
    "\n",
    "def convert_to_int(df,df_column, ch_dtypes=None):\n",
    "    dummy_df = df.copy()\n",
    "    if ch_dtypes is not None:\n",
    "        dummy_df.loc[:, df_column] = pd.to_numeric(dummy_df[df_column], errors='coerce')\n",
    "        if ch_dtypes == int:\n",
    "                dummy_df.loc[:, df_column] = dummy_df[df_column].astype('Int64')\n",
    "        else:\n",
    "            dummy_df.loc[:, df_column] = dummy_df[df_column].astype(ch_dtypes)\n",
    "    return dummy_df[df_column]\n",
    "\n",
    "df_housing_prices_data.loc[: ,'sqft_basement'] = determine_nan_n_replace_zero(df_housing_prices_data,'sqft_basement',True)\n",
    "df_housing_prices_data.loc[: ,'sqft_basement'] = convert_to_int(df_housing_prices_data,'sqft_basement',int)\n",
    "df_housing_prices_data['sqft_basement']\n",
    "'''\n",
    "\n",
    "df_housing_prices_data.sqft_basement = df_housing_prices_data.sqft_basement.fillna(0) \n",
    "df_housing_prices_data.sqft_basement = round(df_housing_prices_data['sqft_basement']).astype(int)\n",
    "df_housing_prices_data.sqft_basement\n"
   ]
  },
  {
   "cell_type": "code",
   "execution_count": null,
   "id": "c948620d",
   "metadata": {},
   "outputs": [],
   "source": [
    "# def determine_nan_n_replace_zero(df, df_column,ch_dtypes= None,replace = False ):\n",
    "#     dummy_df = df.copy()\n",
    "#     # print(df[df_column].isna().value_counts())\n",
    "#     if replace == True:\n",
    "#         dummy_df.loc[:,(df_column)] = dummy_df.loc[:,(df_column)].fillna(0)\n",
    "#         # print('\\n',type(df_column),df[df_column].isna().value_counts())  \n",
    "#         if ch_dtypes != None:\n",
    "#             dummy_df.loc[:,(df_column)] = round(dummy_df.loc[:,(df_column)]).astype(ch_dtypes)\n",
    "#             dummy_df.loc[:,(df_column)] = dummy_df.loc[:,(df_column)].astype(ch_dtypes)\n",
    "#             print(dummy_df.loc[:,(df_column)]) #, dummy_df.loc[:,(df_column)].astype(int)\n",
    "#             return dummy_df[df_column]\n",
    "#         return dummy_df[df_column] \n",
    "\n",
    "# def determine_nan_n_replace_zero_y(df, df_column, ch_dtypes=None, replace=False):\n",
    "#     dummy_df = df.copy()\n",
    "#     if replace:\n",
    "#         # print(dummy_df.df_column)\n",
    "#         # dummy_df.df_column = dummy_df.df_column.fillna(0)\n",
    "#         dummy_df.loc[:, df_column] = dummy_df[df_column].fillna(0)\n",
    "#     if ch_dtypes is not None:\n",
    "\n",
    "#         # dummy_df.loc[:, df_column] = pd.to_numeric(dummy_df[df_column], errors='coerce')\n",
    "#         if ch_dtypes == int:\n",
    "#                 dummy_df.df_column = dummy_df.df_column.astype('Int64')\n",
    "#         else:\n",
    "#             dummy_df.df_column = dummy_df.df_column.astype(ch_dtypes)\n",
    "#     return dummy_df.df_column\n",
    "\n",
    "\n",
    "# test \n",
    "# df_housing_prices_data = re_read_df_housing_price()\n",
    "# df_housing_prices_data.sqft_basement = determine_nan_n_replace_zero_y(df_housing_prices_data,'sqft_basement',int, True)\n",
    "# df_housing_prices_data.sqft_basement\n",
    "\n",
    "# df_housing_prices_data.loc[:,'sqft_basement'].astype(int)\n",
    "\n",
    "\n",
    "\n",
    "\n"
   ]
  },
  {
   "cell_type": "code",
   "execution_count": null,
   "id": "eb59d3b3",
   "metadata": {},
   "outputs": [],
   "source": [
    "# Change all the float items to int and return the df\n",
    "\n",
    "def dfcoln_int_operation(df,df_coln,ch_type):\n",
    "    new = df.copy()\n",
    "    for i in df_coln:\n",
    "        new[i] = new[i].fillna(0).astype(ch_type)\n",
    "    return new\n",
    "\n",
    "new = dfcoln_int_operation(df_housing_prices_data, ['bedrooms','bathrooms','view','sqft_living15','sqft_living','sqft_lot','sqft_lot15','waterfront','price'], int)\n",
    "# df_housing_prices_data.head()\n",
    "# new\n",
    "df_housing_prices_data.head()"
   ]
  },
  {
   "cell_type": "code",
   "execution_count": null,
   "id": "36ff0063",
   "metadata": {},
   "outputs": [],
   "source": [
    "# check_dups_via_csv(df_housing_prices_data,'sqft_living','sqft_living.csv')\n",
    "# check_dups_via_csv(df_housing_prices_data,'sqft_lot','sqft_lot.csv')\n",
    "\n",
    "# I checked the values of the sqft_x columns and they looked like those don't have any decimals values\n",
    "# redundant so may be turning to int to speed it up a bit\n",
    "\n",
    "df_housing_prices_data.sqft_lot = round(df_housing_prices_data['sqft_lot']).astype(int)\n",
    "df_housing_prices_data.sqft_lot15 = round(df_housing_prices_data['sqft_lot15']).astype(int)\n",
    "df_housing_prices_data.sqft_living = round(df_housing_prices_data['sqft_living']).astype(int)\n",
    "df_housing_prices_data.sqft_living15 = round(df_housing_prices_data['sqft_living15']).astype(int)\n",
    "\n"
   ]
  },
  {
   "cell_type": "code",
   "execution_count": null,
   "id": "22222bed",
   "metadata": {},
   "outputs": [],
   "source": [
    "# After cleaning all the data finally the data set would be\n",
    "\n",
    "df_final_set = df_housing_prices_data.copy()\n",
    "df_final_set"
   ]
  },
  {
   "cell_type": "code",
   "execution_count": null,
   "id": "4a4983c7",
   "metadata": {},
   "outputs": [],
   "source": [
    "from eda_data_cleaning import DataCleaning\n",
    "\n",
    "dc = DataCleaning(\"data\\eda_house_price_details.csv\")\n",
    "print(dc, type(dc))\n",
    "\n",
    "df = dc.cleaned_data_and_transformation()\n",
    "print(df, type(df))"
   ]
  },
  {
   "cell_type": "markdown",
   "id": "3048650d",
   "metadata": {},
   "source": [
    "## Hypothesis\n",
    "\n",
    "-----\n",
    "\n",
    "#### Hypothesis 3\n",
    "\n",
    "Homes in central zip codes have higher prices regardless of grade or condition.\n",
    "Need to check certain columns within the data.\n",
    "\n",
    "My Take: \n",
    "I need from the data frame columns :\n",
    "\n",
    "    id    \n",
    "    zipcode\n",
    "    lat\n",
    "    long\n",
    "    price \n",
    "    grade\n",
    "    condition\n",
    "    sqft_living\n",
    "    sqft_lot"
   ]
  },
  {
   "cell_type": "code",
   "execution_count": 5,
   "id": "040229cc",
   "metadata": {},
   "outputs": [],
   "source": [
    "from eda_data_cleaning import DataCleaning\n",
    "from eda_hypothesis import Hypothesis3 , Hypothesis\n",
    "\n",
    "ob_hy3 = Hypothesis3()\n",
    "# ob_hy3.vis_all_columns()\n",
    "df_h3 = ob_hy3.selective_df.copy()\n"
   ]
  },
  {
   "cell_type": "code",
   "execution_count": 6,
   "id": "6c1a3d65",
   "metadata": {},
   "outputs": [
    {
     "name": "stdout",
     "output_type": "stream",
     "text": [
      "<class 'pandas.core.frame.DataFrame'>\n",
      "Index: 21420 entries, 0 to 21596\n",
      "Data columns (total 11 columns):\n",
      " #   Column         Non-Null Count  Dtype  \n",
      "---  ------         --------------  -----  \n",
      " 0   id             21420 non-null  int64  \n",
      " 1   zipcode        21420 non-null  int64  \n",
      " 2   lat            21420 non-null  float64\n",
      " 3   long           21420 non-null  float64\n",
      " 4   price          21420 non-null  int64  \n",
      " 5   grade          21420 non-null  int64  \n",
      " 6   condition      21420 non-null  int64  \n",
      " 7   sqft_living    21420 non-null  int64  \n",
      " 8   sqft_lot       21420 non-null  int64  \n",
      " 9   sqft_living15  21420 non-null  int64  \n",
      " 10  sqft_lot15     21420 non-null  int64  \n",
      "dtypes: float64(2), int64(9)\n",
      "memory usage: 2.0 MB\n"
     ]
    },
    {
     "data": {
      "text/plain": [
       "<Axes: xlabel='zipcode', ylabel='grade'>"
      ]
     },
     "execution_count": 6,
     "metadata": {},
     "output_type": "execute_result"
    },
    {
     "data": {
      "image/png": "[encoded data removed]",
      "text/plain": [
       "<Figure size 640x480 with 1 Axes>"
      ]
     },
     "metadata": {},
     "output_type": "display_data"
    }
   ],
   "source": [
    "# Got the data for the hypothesis - 3\n",
    "df_h3.head()\n",
    "df_h3.info()\n",
    "df_h3.plot(kind='scatter',x='zipcode',y='grade')\n",
    "\n",
    "\n"
   ]
  },
  {
   "cell_type": "code",
   "execution_count": 10,
   "id": "9ba3f24b",
   "metadata": {},
   "outputs": [
    {
     "data": {
      "text/plain": [
       "<Axes: xlabel='zipcode', ylabel='price'>"
      ]
     },
     "execution_count": 10,
     "metadata": {},
     "output_type": "execute_result"
    },
    {
     "data": {
      "image/png": "[encoded data removed]",
      "text/plain": [
       "<Figure size 640x480 with 1 Axes>"
      ]
     },
     "metadata": {},
     "output_type": "display_data"
    }
   ],
   "source": [
    "df_h3.plot(kind = 'scatter', x= 'zipcode', y='price')"
   ]
  },
  {
   "cell_type": "code",
   "execution_count": 20,
   "id": "cfbab424",
   "metadata": {},
   "outputs": [
    {
     "data": {
      "text/html": [
       "<div>\n",
       "<style scoped>\n",
       "    .dataframe tbody tr th:only-of-type {\n",
       "        vertical-align: middle;\n",
       "    }\n",
       "\n",
       "    .dataframe tbody tr th {\n",
       "        vertical-align: top;\n",
       "    }\n",
       "\n",
       "    .dataframe thead th {\n",
       "        text-align: right;\n",
       "    }\n",
       "</style>\n",
       "<table border=\"1\" class=\"dataframe\">\n",
       "  <thead>\n",
       "    <tr style=\"text-align: right;\">\n",
       "      <th></th>\n",
       "      <th>id</th>\n",
       "      <th>zipcode</th>\n",
       "      <th>lat</th>\n",
       "      <th>long</th>\n",
       "      <th>price</th>\n",
       "      <th>grade</th>\n",
       "      <th>condition</th>\n",
       "      <th>sqft_living</th>\n",
       "      <th>sqft_lot</th>\n",
       "      <th>sqft_living15</th>\n",
       "      <th>sqft_lot15</th>\n",
       "      <th>price_per_sqft</th>\n",
       "    </tr>\n",
       "  </thead>\n",
       "  <tbody>\n",
       "    <tr>\n",
       "      <th>0</th>\n",
       "      <td>7129300520</td>\n",
       "      <td>98178</td>\n",
       "      <td>47.5112</td>\n",
       "      <td>-122.257</td>\n",
       "      <td>221900</td>\n",
       "      <td>7</td>\n",
       "      <td>3</td>\n",
       "      <td>1180</td>\n",
       "      <td>5650</td>\n",
       "      <td>1340</td>\n",
       "      <td>5650</td>\n",
       "      <td>188.050847</td>\n",
       "    </tr>\n",
       "    <tr>\n",
       "      <th>1</th>\n",
       "      <td>6414100192</td>\n",
       "      <td>98125</td>\n",
       "      <td>47.7210</td>\n",
       "      <td>-122.319</td>\n",
       "      <td>538000</td>\n",
       "      <td>7</td>\n",
       "      <td>3</td>\n",
       "      <td>2570</td>\n",
       "      <td>7242</td>\n",
       "      <td>1690</td>\n",
       "      <td>7639</td>\n",
       "      <td>209.338521</td>\n",
       "    </tr>\n",
       "    <tr>\n",
       "      <th>2</th>\n",
       "      <td>5631500400</td>\n",
       "      <td>98028</td>\n",
       "      <td>47.7379</td>\n",
       "      <td>-122.233</td>\n",
       "      <td>180000</td>\n",
       "      <td>6</td>\n",
       "      <td>3</td>\n",
       "      <td>770</td>\n",
       "      <td>10000</td>\n",
       "      <td>2720</td>\n",
       "      <td>8062</td>\n",
       "      <td>233.766234</td>\n",
       "    </tr>\n",
       "    <tr>\n",
       "      <th>3</th>\n",
       "      <td>2487200875</td>\n",
       "      <td>98136</td>\n",
       "      <td>47.5208</td>\n",
       "      <td>-122.393</td>\n",
       "      <td>604000</td>\n",
       "      <td>7</td>\n",
       "      <td>5</td>\n",
       "      <td>1960</td>\n",
       "      <td>5000</td>\n",
       "      <td>1360</td>\n",
       "      <td>5000</td>\n",
       "      <td>308.163265</td>\n",
       "    </tr>\n",
       "    <tr>\n",
       "      <th>4</th>\n",
       "      <td>1954400510</td>\n",
       "      <td>98074</td>\n",
       "      <td>47.6168</td>\n",
       "      <td>-122.045</td>\n",
       "      <td>510000</td>\n",
       "      <td>8</td>\n",
       "      <td>3</td>\n",
       "      <td>1680</td>\n",
       "      <td>8080</td>\n",
       "      <td>1800</td>\n",
       "      <td>7503</td>\n",
       "      <td>303.571429</td>\n",
       "    </tr>\n",
       "  </tbody>\n",
       "</table>\n",
       "</div>"
      ],
      "text/plain": [
       "           id  zipcode      lat     long   price  grade  condition  \\\n",
       "0  7129300520    98178  47.5112 -122.257  221900      7          3   \n",
       "1  6414100192    98125  47.7210 -122.319  538000      7          3   \n",
       "2  5631500400    98028  47.7379 -122.233  180000      6          3   \n",
       "3  2487200875    98136  47.5208 -122.393  604000      7          5   \n",
       "4  1954400510    98074  47.6168 -122.045  510000      8          3   \n",
       "\n",
       "   sqft_living  sqft_lot  sqft_living15  sqft_lot15  price_per_sqft  \n",
       "0         1180      5650           1340        5650      188.050847  \n",
       "1         2570      7242           1690        7639      209.338521  \n",
       "2          770     10000           2720        8062      233.766234  \n",
       "3         1960      5000           1360        5000      308.163265  \n",
       "4         1680      8080           1800        7503      303.571429  "
      ]
     },
     "execution_count": 20,
     "metadata": {},
     "output_type": "execute_result"
    }
   ],
   "source": [
    "df_h3['zipcode'].describe()\n",
    "\n",
    "# df_h3['price_per_sqft']= df_h3[df_h3['price'] / df_h3['sqft_living']]\n",
    "\n",
    "df_h3.eval('price_per_sqft = price / sqft_living', inplace=True)\n",
    "df_h3.head()"
   ]
  },
  {
   "cell_type": "code",
   "execution_count": 28,
   "id": "f88ea303",
   "metadata": {},
   "outputs": [
    {
     "data": {
      "text/plain": [
       "array([188.05084746, 209.3385214 , 233.76623377, ..., 173.16017316,\n",
       "       394.21666667, 318.62745098], shape=(16379,))"
      ]
     },
     "execution_count": 28,
     "metadata": {},
     "output_type": "execute_result"
    },
    {
     "data": {
      "image/png": "[encoded data removed]",
      "text/plain": [
       "<Figure size 640x480 with 1 Axes>"
      ]
     },
     "metadata": {},
     "output_type": "display_data"
    }
   ],
   "source": [
    "df_h3.plot(kind='scatter', x='grade', y='price_per_sqft')\n",
    "# df_h3.plot(kind='scatter', x='grade', y='price', xrot= 45, yrot =100)\n",
    "df_h3['price_per_sqft'].unique()"
   ]
  }
 ],
 "metadata": {
  "kernelspec": {
   "display_name": ".venv",
   "language": "python",
   "name": "python3"
  },
  "language_info": {
   "codemirror_mode": {
    "name": "ipython",
    "version": 3
   },
   "file_extension": ".py",
   "mimetype": "text/x-python",
   "name": "python",
   "nbconvert_exporter": "python",
   "pygments_lexer": "ipython3",
   "version": "3.11.3"
  }
 },
 "nbformat": 4,
 "nbformat_minor": 5
}
